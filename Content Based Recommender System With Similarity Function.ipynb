{
 "cells": [
  {
   "cell_type": "markdown",
   "metadata": {},
   "source": [
    "# Content Based Recommender System With Similarity Function\n",
    "\n",
    "**Traffic Problem**: Ingin membuat Model untuk melihat rekomendasi film dari film yang disukai melalui dataset IMDb dengan mengidentifikasi berdasarkan Judul yang disukai.\n",
    "\n",
    "Dengan dataset diambil dari IMDb Datasets yang berisikan data data film, saya membuat recommender system yang menggunakan Content/feature dari film/entitas tersebut, kemudian melakukan perhitungan terhadap kesamaannya satu dan yang lain sehingga ketika menunjuk ke satu film, akan mendapat beberapa film lain yang memiliki kesamaan dengan film tersebut. Hal ini biasa disebut sebagai Content Based Recommender System. Dengan membandingkan kesamaan plot yang ada dan genre yang ada, ketika audience lebih menyukai film Narnia, maka content based recommender system ini akan juga merekomendasikan film seperti Harry Potter atau The Lords of The Rings yang memiliki genre yang mirip.\n"
   ]
  },
  {
   "cell_type": "markdown",
   "metadata": {},
   "source": [
    "## A. Unloading and Checking Datasets\n",
    "\n",
    "Dataset yang kami gunakan yaitu IMDb Datasets yang dapat didownload pada link https://datasets.imdbws.com/ . Dataset tersedia untuk akses ke pelanggan untuk penggunaan pribadi dan non-komersial. Dataset yang kami gunakan adalah sebagai berikut:\n",
    "\n",
    "**title.basics.tsv** - Berisi informasi berikut :\n",
    "* tconst (string) - pengenal unik alfanumerik dari judul\n",
    "* titleType (string) - jenis / format judul (misalnya film, pendek, tvseries, tvepisode, video, dll)\n",
    "* primaryTitle (string) - judul yang lebih populer / judul yang digunakan oleh pembuat film pada materi promosi pada saat peluncuran\n",
    "* originalTitle (string) - judul asli, dalam bahasa aslinya\n",
    "* isAdult (boolean) - 0: judul non-dewasa; 1: gelar dewasa\n",
    "* startYear (YYYY) - mewakili tahun rilis suatu judul. Dalam kasus Serial TV, ini adalah tahun mulainya serial\n",
    "* endYear (YYYY) - Tahun akhir serial TV. '\\ N' untuk semua jenis judul lainnya\n",
    "* runtimeMinutes - runtime utama dari judul, dalam menit\n",
    "* genre (string array) - mencakup hingga tiga genre yang terkait dengan judul\n",
    "* averageRating - rata-rata peringkat Judul\n",
    "* numVotes - jumlah suara yang diterima judul\n",
    "\n",
    "**title.crew.tsv** – Berisi informasi sutradara dan penulis untuk semua judul di IMDb.\n",
    "* tconst (string) - pengenal unik alfanumerik dari judul\n",
    "* directors (array of nconsts) - sutradara dari judul\n",
    "* writers (array of nconsts) – penulis dari judul\n",
    "\n",
    "**name.basics.tsv** - Berisi informasi nama berikut:\n",
    "* nconst (string) - pengenal unik alfanumerik dari nama / orang\n",
    "* primaryName (string) - nama orang \n",
    "* birthYear - dalam format YYYY\n",
    "* deathYear - dalam format YYYY jika ada, lain '\\ N'\n",
    "* primaryProfession (array of string) - 3 profesi teratas orang tersebut\n",
    "* knownForTitles (array of tconsts) - keterikatan orang tersebut dengan judul"
   ]
  },
  {
   "cell_type": "markdown",
   "metadata": {},
   "source": [
    "**1). Import Basics Library and File Unloading**\n",
    "\n",
    "Memasukkan library pandas dan numpy, dan juga memasukkan dataset dari title.basics.csv yang berisikan data film berupa judul, tipe, genres, rating, dll."
   ]
  },
  {
   "cell_type": "code",
   "execution_count": 1,
   "metadata": {
    "_cell_guid": "b1076dfc-b9ad-4769-8c92-a6c4dae69d19",
    "_uuid": "8f2839f25d086af736a60e9eeb907d3b93b6e0e5"
   },
   "outputs": [
    {
     "name": "stdout",
     "output_type": "stream",
     "text": [
      "      tconst titleType            primaryTitle           originalTitle  \\\n",
      "0  tt0000001     short              Carmencita              Carmencita   \n",
      "1  tt0000002     short  Le clown et ses chiens  Le clown et ses chiens   \n",
      "2  tt0000003     short          Pauvre Pierrot          Pauvre Pierrot   \n",
      "3  tt0000004     short             Un bon bock             Un bon bock   \n",
      "4  tt0000005     short        Blacksmith Scene        Blacksmith Scene   \n",
      "\n",
      "   isAdult  startYear  endYear  runtimeMinutes                    genres  \\\n",
      "0        0     1894.0      NaN             1.0         Documentary,Short   \n",
      "1        0     1892.0      NaN             5.0           Animation,Short   \n",
      "2        0     1892.0      NaN             4.0  Animation,Comedy,Romance   \n",
      "3        0     1892.0      NaN            12.0           Animation,Short   \n",
      "4        0     1893.0      NaN             1.0              Comedy,Short   \n",
      "\n",
      "   averageRating  numVotes  \n",
      "0            5.6      1608  \n",
      "1            6.0       197  \n",
      "2            6.5      1285  \n",
      "3            6.1       121  \n",
      "4            6.1      2050  \n",
      "<class 'pandas.core.frame.DataFrame'>\n",
      "RangeIndex: 751614 entries, 0 to 751613\n",
      "Data columns (total 11 columns):\n",
      " #   Column          Non-Null Count   Dtype  \n",
      "---  ------          --------------   -----  \n",
      " 0   tconst          751614 non-null  object \n",
      " 1   titleType       751614 non-null  object \n",
      " 2   primaryTitle    751614 non-null  object \n",
      " 3   originalTitle   751614 non-null  object \n",
      " 4   isAdult         751614 non-null  int64  \n",
      " 5   startYear       751614 non-null  float64\n",
      " 6   endYear         16072 non-null   float64\n",
      " 7   runtimeMinutes  751614 non-null  float64\n",
      " 8   genres          486766 non-null  object \n",
      " 9   averageRating   751614 non-null  float64\n",
      " 10  numVotes        751614 non-null  int64  \n",
      "dtypes: float64(4), int64(2), object(5)\n",
      "memory usage: 63.1+ MB\n",
      "None\n"
     ]
    }
   ],
   "source": [
    "#import library yang dibutuhkan\n",
    "import pandas as pd\n",
    "import numpy as np\n",
    "\n",
    "#lakukan pembacaan dataset\n",
    "movie_rating_df = pd.read_csv('D:/Dataset/IMDb Datasets/title.basics.csv')\n",
    "\n",
    "#tampilkan 5 baris teratas dari movive_rating_df\n",
    "print(movie_rating_df.head())\n",
    "\n",
    "#tampilkan info mengenai tipe data dari tiap kolom\n",
    "print(movie_rating_df.info())"
   ]
  },
  {
   "cell_type": "markdown",
   "metadata": {},
   "source": [
    "**2). Add Actors Dataframe**\n",
    "\n",
    "Memasukkan dataset name.basics.tsv yang berisikan data cast/aktor yang berelasi pada judul film."
   ]
  },
  {
   "cell_type": "code",
   "execution_count": 2,
   "metadata": {
    "_cell_guid": "79c7e3d0-c299-4dcb-8224-4455121ee9b0",
    "_uuid": "d629ff2d2480ee46fbb7e2d37f6b5fab8052498a"
   },
   "outputs": [
    {
     "name": "stdout",
     "output_type": "stream",
     "text": [
      "       nconst          primaryName birthYear deathYear  \\\n",
      "0   nm1774132    Nathan McLaughlin      1973        \\N   \n",
      "1  nm10683464        Bridge Andrew        \\N        \\N   \n",
      "2   nm1021485    Brandon Fransvaag        \\N        \\N   \n",
      "3   nm6940929   Erwin van der Lely        \\N        \\N   \n",
      "4   nm5764974  Svetlana Shypitsyna        \\N        \\N   \n",
      "\n",
      "                    primaryProfession                           knownForTitles  \n",
      "0  special_effects,make_up_department  tt0417686,tt1713976,tt1891860,tt0454839  \n",
      "1                               actor                                tt7718088  \n",
      "2                       miscellaneous                                tt0168790  \n",
      "3                       miscellaneous                                tt4232168  \n",
      "4                             actress                                tt3014168  \n",
      "<class 'pandas.core.frame.DataFrame'>\n",
      "RangeIndex: 1000 entries, 0 to 999\n",
      "Data columns (total 6 columns):\n",
      " #   Column             Non-Null Count  Dtype \n",
      "---  ------             --------------  ----- \n",
      " 0   nconst             1000 non-null   object\n",
      " 1   primaryName        1000 non-null   object\n",
      " 2   birthYear          1000 non-null   object\n",
      " 3   deathYear          1000 non-null   object\n",
      " 4   primaryProfession  891 non-null    object\n",
      " 5   knownForTitles     1000 non-null   object\n",
      "dtypes: object(6)\n",
      "memory usage: 47.0+ KB\n",
      "None\n"
     ]
    }
   ],
   "source": [
    "#Simpan actor_name.csv pada variable name_df \n",
    "name_df = pd.read_csv('D:/Dataset/IMDb Datasets/name.basics.tsv', sep='\\t')\n",
    "\n",
    "#Tampilkan 5 baris teratas dari name_df\n",
    "print(name_df.head())\n",
    "\n",
    "#Tampilkan informasi mengenai tipe data dari tiap kolom pada name_df\n",
    "print(name_df.info())"
   ]
  },
  {
   "cell_type": "markdown",
   "metadata": {},
   "source": [
    "**3). Add Directors and Writers Dataframe**\n",
    "\n",
    "Memasukkan dataset dari title.crew.tsv' yang berisikan data direktor dan Penulis "
   ]
  },
  {
   "cell_type": "code",
   "execution_count": 3,
   "metadata": {},
   "outputs": [
    {
     "name": "stdout",
     "output_type": "stream",
     "text": [
      "      tconst                   director_name  \\\n",
      "0  tt0011414                  David Kirkland   \n",
      "1  tt0011890               Roy William Neill   \n",
      "2  tt0014341  Buster Keaton,John G. Blystone   \n",
      "3  tt0018054                Cecil B. DeMille   \n",
      "4  tt0024151                     James Cruze   \n",
      "\n",
      "                                       writer_name  \n",
      "0                          John Emerson,Anita Loos  \n",
      "1     Arthur F. Goodrich,Burns Mantle,Mary Murillo  \n",
      "2  Jean C. Havez,Clyde Bruckman,Joseph A. Mitchell  \n",
      "3                                Jeanie Macpherson  \n",
      "4                 Max Miller,Wells Root,Jack Jevne  \n",
      "<class 'pandas.core.frame.DataFrame'>\n",
      "RangeIndex: 986 entries, 0 to 985\n",
      "Data columns (total 3 columns):\n",
      " #   Column         Non-Null Count  Dtype \n",
      "---  ------         --------------  ----- \n",
      " 0   tconst         986 non-null    object\n",
      " 1   director_name  986 non-null    object\n",
      " 2   writer_name    986 non-null    object\n",
      "dtypes: object(3)\n",
      "memory usage: 23.2+ KB\n",
      "None\n"
     ]
    }
   ],
   "source": [
    "#Menyimpan dataset pada variabel director_writers\n",
    "director_writers = pd.read_csv('D:/Dataset/IMDb Datasets/title.crew.tsv', sep='\\t')\n",
    "\n",
    "#Manampilkan 5 baris teratas\n",
    "print(director_writers.head())\n",
    "\n",
    "#Menampilkan informasi tipe data\n",
    "print(director_writers.info())"
   ]
  },
  {
   "cell_type": "markdown",
   "metadata": {},
   "source": [
    "## B. Data Wraggling"
   ]
  },
  {
   "cell_type": "markdown",
   "metadata": {},
   "source": [
    "### 1). Table director_writers ( Dataset title.crew.tsv)\n",
    "Memngubah kolom director_name dan writer_name menjadi list."
   ]
  },
  {
   "cell_type": "code",
   "execution_count": 4,
   "metadata": {},
   "outputs": [
    {
     "name": "stdout",
     "output_type": "stream",
     "text": [
      "      tconst                      director_name  \\\n",
      "0  tt0011414                   [David Kirkland]   \n",
      "1  tt0011890                [Roy William Neill]   \n",
      "2  tt0014341  [Buster Keaton, John G. Blystone]   \n",
      "3  tt0018054                 [Cecil B. DeMille]   \n",
      "4  tt0024151                      [James Cruze]   \n",
      "\n",
      "                                         writer_name  \n",
      "0                         [John Emerson, Anita Loos]  \n",
      "1   [Arthur F. Goodrich, Burns Mantle, Mary Murillo]  \n",
      "2  [Jean C. Havez, Clyde Bruckman, Joseph A. Mitc...  \n",
      "3                                [Jeanie Macpherson]  \n",
      "4               [Max Miller, Wells Root, Jack Jevne]  \n"
     ]
    }
   ],
   "source": [
    "#Mengubah director_name menjadi list\n",
    "director_writers['director_name'] = director_writers['director_name'].apply(lambda row: row.split(','))\n",
    "#Mengubah writer_name menjadi list\n",
    "director_writers['writer_name'] = director_writers['writer_name'].apply(lambda row: row.split(','))\n",
    "\n",
    "#Tampilkan 5 data teratas\n",
    "print(director_writers.head())"
   ]
  },
  {
   "cell_type": "markdown",
   "metadata": {},
   "source": [
    "### 2). Cleaning and Processing Actors Dataframe"
   ]
  },
  {
   "cell_type": "markdown",
   "metadata": {},
   "source": [
    "* **Slicing name_df**\n",
    "\n",
    "Tahap ini hanya mengambil beberapa kolom saja sesuai kebutuhan. Kolom yang diambil yaitu nconst, primaryName, dan knownForTitles untuk mencocokkan nama aktor dengan judul film pada dataframe movie_rating_df. "
   ]
  },
  {
   "cell_type": "code",
   "execution_count": 5,
   "metadata": {},
   "outputs": [
    {
     "name": "stdout",
     "output_type": "stream",
     "text": [
      "       nconst          primaryName                           knownForTitles\n",
      "0   nm1774132    Nathan McLaughlin  tt0417686,tt1713976,tt1891860,tt0454839\n",
      "1  nm10683464        Bridge Andrew                                tt7718088\n",
      "2   nm1021485    Brandon Fransvaag                                tt0168790\n",
      "3   nm6940929   Erwin van der Lely                                tt4232168\n",
      "4   nm5764974  Svetlana Shypitsyna                                tt3014168\n"
     ]
    }
   ],
   "source": [
    "#Hanya akan membutuhkan kolom nconst, primaryName, dan knownForTitles untuk mencocokkan aktor/aktris\n",
    "name_df = name_df[['nconst','primaryName','knownForTitles']]\n",
    "\n",
    "#Tampilkan 5 baris teratas dari name_df\n",
    "print(name_df.head())"
   ]
  },
  {
   "cell_type": "markdown",
   "metadata": {},
   "source": [
    "* **Mengecek Variasi Aktor terhadap Movie**\n",
    "\n",
    "Tahap ini mengecek apakah aktor membintangi lebih dari satu judul movie/film. Hal tersebut memungkinkan bahwa aktor bisa membintangi lenih dari satu film. Pengecekan dilakuakn pada kolom knownForTitles untuk kode judul film, lalu mengubah kolom tersebut kedalam bentuk list of list."
   ]
  },
  {
   "cell_type": "code",
   "execution_count": 6,
   "metadata": {},
   "outputs": [
    {
     "name": "stdout",
     "output_type": "stream",
     "text": [
      "[4 1 2 3]\n",
      "       nconst          primaryName  \\\n",
      "0   nm1774132    Nathan McLaughlin   \n",
      "1  nm10683464        Bridge Andrew   \n",
      "2   nm1021485    Brandon Fransvaag   \n",
      "3   nm6940929   Erwin van der Lely   \n",
      "4   nm5764974  Svetlana Shypitsyna   \n",
      "\n",
      "                                 knownForTitles  \n",
      "0  [tt0417686, tt1713976, tt1891860, tt0454839]  \n",
      "1                                   [tt7718088]  \n",
      "2                                   [tt0168790]  \n",
      "3                                   [tt4232168]  \n",
      "4                                   [tt3014168]  \n"
     ]
    }
   ],
   "source": [
    "#Melakukan pengecekan variasi\n",
    "print(name_df['knownForTitles'].apply(lambda x: len(x.split(','))).unique())\n",
    "\n",
    "#Mengubah knownForTitles menjadi list of list\n",
    "name_df['knownForTitles'] = name_df['knownForTitles'].apply(lambda x: x.split(','))\n",
    "\n",
    "#Mencetak 5 baris teratas\n",
    "print(name_df.head())"
   ]
  },
  {
   "cell_type": "markdown",
   "metadata": {},
   "source": [
    "* **Korespondensi pada name_df berdasarkan kolom knownForTitles**\n",
    "\n",
    "Setelah kolom knownForTitles dijadikan list of list, kemudian memecah list tersebut disetiap baris dari kolom knownForTitles dan menggabungkannya dengan row dalam dataframe. Sehingga data pada kolom primaryName yang awalnya mempunyai value knownForTitles bentuk list akan dijadikan per index atau baris."
   ]
  },
  {
   "cell_type": "code",
   "execution_count": 7,
   "metadata": {},
   "outputs": [
    {
     "name": "stdout",
     "output_type": "stream",
     "text": [
      "         nconst        primaryName knownForTitles\n",
      "0     nm1774132  Nathan McLaughlin      tt0417686\n",
      "0     nm1774132  Nathan McLaughlin      tt1713976\n",
      "0     nm1774132  Nathan McLaughlin      tt1891860\n",
      "0     nm1774132  Nathan McLaughlin      tt0454839\n",
      "1    nm10683464      Bridge Andrew      tt7718088\n",
      "..          ...                ...            ...\n",
      "998   nm5245804      Eliza Jenkins      tt1464058\n",
      "999   nm0948460         Greg Yolen      tt0436869\n",
      "999   nm0948460         Greg Yolen      tt0476663\n",
      "999   nm0948460         Greg Yolen      tt0109723\n",
      "999   nm0948460         Greg Yolen      tt0364484\n",
      "\n",
      "[1918 rows x 3 columns]\n"
     ]
    }
   ],
   "source": [
    "#menyiapkan bucket untuk dataframe\n",
    "df_uni = []\n",
    "\n",
    "for x in ['knownForTitles']:\n",
    "    #mengulang index dari tiap baris sampai tiap elemen dari knownForTitles\n",
    "    idx = name_df.index.repeat(name_df['knownForTitles'].str.len())\n",
    "   \n",
    "   #memecah values dari list di setiap baris dan menggabungkan nya dengan rows lain menjadi dataframe\n",
    "    df1 = pd.DataFrame({\n",
    "        x: np.concatenate(name_df[x].values)\n",
    "    })\n",
    "    \n",
    "    #mengganti index dataframe tersebut dengan idx yang sudah kita define di awal\n",
    "    df1.index = idx\n",
    "    #untuk setiap dataframe yang terbentuk, kita append ke dataframe bucket\n",
    "    df_uni.append(df1)\n",
    "    \n",
    "#menggabungkan semua dataframe menjadi satu\n",
    "df_concat = pd.concat(df_uni, axis=1)\n",
    "\n",
    "#left join dengan value dari dataframe yang awal\n",
    "unnested_df = df_concat.join(name_df.drop(['knownForTitles'], 1), how='left')\n",
    "\n",
    "#select kolom sesuai dengan dataframe awal\n",
    "unnested_df = unnested_df[name_df.columns.tolist()]\n",
    "print(unnested_df)"
   ]
  },
  {
   "cell_type": "markdown",
   "metadata": {},
   "source": [
    "* **Nesting primaryName group by knownForTitles**"
   ]
  },
  {
   "cell_type": "markdown",
   "metadata": {},
   "source": [
    "Tahapan ini mengelompokkan primaryName menjadi list group by knownForTitles dan menghapus kolom nconst. Data sebelumnya masih belum dikelompokkan dan nomor index masih ada yang sama, Sehingga data tersebut akan dilakukan pengelompokan data dan reset index."
   ]
  },
  {
   "cell_type": "code",
   "execution_count": 8,
   "metadata": {},
   "outputs": [
    {
     "name": "stdout",
     "output_type": "stream",
     "text": [
      "     knownForTitles           cast_name\n",
      "0         tt0008125    [Charles Harley]\n",
      "1         tt0009706    [Charles Harley]\n",
      "2         tt0010304  [Natalie Talmadge]\n",
      "3         tt0011414  [Natalie Talmadge]\n",
      "4         tt0011890  [Natalie Talmadge]\n",
      "...             ...                 ...\n",
      "1893      tt9610496  [Stefano Baffetti]\n",
      "1894      tt9714030        [Kevin Kain]\n",
      "1895      tt9741820   [Caroline Plyler]\n",
      "1896      tt9759814     [Ethan Francis]\n",
      "1897      tt9856236     [Nuala Maguire]\n",
      "\n",
      "[1898 rows x 2 columns]\n"
     ]
    }
   ],
   "source": [
    "unnested_drop = unnested_df.drop(['nconst'], axis=1)\n",
    "\n",
    "#menyiapkan bucket untuk dataframe\n",
    "df_uni = []\n",
    "\n",
    "for col in ['primaryName']:\n",
    "    #agregasi kolom PrimaryName sesuai group_col yang sudah di define di atas\n",
    "    dfi = unnested_drop.groupby(['knownForTitles'])[col].apply(list)\n",
    "    #Lakukan append\n",
    "    df_uni.append(dfi)\n",
    "df_grouped = pd.concat(df_uni, axis=1).reset_index()\n",
    "df_grouped.columns = ['knownForTitles','cast_name']\n",
    "print(df_grouped)"
   ]
  },
  {
   "cell_type": "markdown",
   "metadata": {},
   "source": [
    "### 3). Joining with Movie Table"
   ]
  },
  {
   "cell_type": "markdown",
   "metadata": {},
   "source": [
    "* **Join table**\n",
    "\n",
    "Setelah melakukan tahapan awal, langkah selanjutnya yaitu melakukan join table. Karena dataset yang didapat itu terpisah makan akan dilakukan join supaya mempermudah dalam analisa maupun pembuatan model. Tabel yang akan digabungkan yaitu df_grouped, movie_rating_df dan director_writers"
   ]
  },
  {
   "cell_type": "code",
   "execution_count": 9,
   "metadata": {},
   "outputs": [
    {
     "name": "stdout",
     "output_type": "stream",
     "text": [
      "  knownForTitles           cast_name     tconst titleType  \\\n",
      "0      tt0011414  [Natalie Talmadge]  tt0011414     movie   \n",
      "1      tt0011890  [Natalie Talmadge]  tt0011890     movie   \n",
      "2      tt0014341  [Natalie Talmadge]  tt0014341     movie   \n",
      "3      tt0018054     [Reeka Roberts]  tt0018054     movie   \n",
      "4      tt0024151     [James Hackett]  tt0024151     movie   \n",
      "\n",
      "             primaryTitle           originalTitle  isAdult  startYear  \\\n",
      "0         The Love Expert         The Love Expert        0     1920.0   \n",
      "1               Yes or No               Yes or No        0     1920.0   \n",
      "2         Our Hospitality         Our Hospitality        0     1923.0   \n",
      "3       The King of Kings       The King of Kings        0     1927.0   \n",
      "4  I Cover the Waterfront  I Cover the Waterfront        0     1933.0   \n",
      "\n",
      "   endYear  runtimeMinutes                   genres  averageRating  numVotes  \\\n",
      "0      NaN            60.0           Comedy,Romance            4.9       136   \n",
      "1      NaN            72.0                      NaN            6.3         7   \n",
      "2      NaN            65.0  Comedy,Romance,Thriller            7.8      9621   \n",
      "3      NaN           155.0  Biography,Drama,History            7.3      1826   \n",
      "4      NaN            80.0            Drama,Romance            6.3       455   \n",
      "\n",
      "                       director_name  \\\n",
      "0                   [David Kirkland]   \n",
      "1                [Roy William Neill]   \n",
      "2  [Buster Keaton, John G. Blystone]   \n",
      "3                 [Cecil B. DeMille]   \n",
      "4                      [James Cruze]   \n",
      "\n",
      "                                         writer_name  \n",
      "0                         [John Emerson, Anita Loos]  \n",
      "1   [Arthur F. Goodrich, Burns Mantle, Mary Murillo]  \n",
      "2  [Jean C. Havez, Clyde Bruckman, Joseph A. Mitc...  \n",
      "3                                [Jeanie Macpherson]  \n",
      "4               [Max Miller, Wells Root, Jack Jevne]  \n"
     ]
    }
   ],
   "source": [
    "#join antara movie table dan actor table \n",
    "base_df = pd.merge(df_grouped, movie_rating_df, left_on='knownForTitles', right_on='tconst', how='inner')\n",
    "\n",
    "#join antara base_df dengan director_writer table\n",
    "base_df = pd.merge(base_df, director_writers, left_on='tconst', right_on='tconst', how='left')\n",
    "print(base_df.head())"
   ]
  },
  {
   "cell_type": "markdown",
   "metadata": {},
   "source": [
    "* **Cleaning data pada tabel yang telah di join**"
   ]
  },
  {
   "cell_type": "markdown",
   "metadata": {},
   "source": [
    "Setelah join semua tabel, dilakukan pengecekan kembali apakah terdapat missing value atau NULL pada data sehingga tidak mengganggu pada saat pemodelan data. Dan juga penghapusan kolom knownForTitles karena sudah tidak digunakan, karena sudah ada kolom primaryTitle yang berisi nama judul "
   ]
  },
  {
   "cell_type": "code",
   "execution_count": 10,
   "metadata": {},
   "outputs": [
    {
     "name": "stdout",
     "output_type": "stream",
     "text": [
      "<class 'pandas.core.frame.DataFrame'>\n",
      "Int64Index: 1060 entries, 0 to 1059\n",
      "Data columns (total 14 columns):\n",
      " #   Column          Non-Null Count  Dtype  \n",
      "---  ------          --------------  -----  \n",
      " 0   cast_name       1060 non-null   object \n",
      " 1   tconst          1060 non-null   object \n",
      " 2   titleType       1060 non-null   object \n",
      " 3   primaryTitle    1060 non-null   object \n",
      " 4   originalTitle   1060 non-null   object \n",
      " 5   isAdult         1060 non-null   int64  \n",
      " 6   startYear       1060 non-null   float64\n",
      " 7   endYear         110 non-null    float64\n",
      " 8   runtimeMinutes  1060 non-null   float64\n",
      " 9   genres          745 non-null    object \n",
      " 10  averageRating   1060 non-null   float64\n",
      " 11  numVotes        1060 non-null   int64  \n",
      " 12  director_name   986 non-null    object \n",
      " 13  writer_name     986 non-null    object \n",
      "dtypes: float64(4), int64(2), object(8)\n",
      "memory usage: 124.2+ KB\n",
      "None\n",
      "cast_name           0\n",
      "tconst              0\n",
      "titleType           0\n",
      "primaryTitle        0\n",
      "originalTitle       0\n",
      "isAdult             0\n",
      "startYear           0\n",
      "endYear           950\n",
      "runtimeMinutes      0\n",
      "genres            315\n",
      "averageRating       0\n",
      "numVotes            0\n",
      "director_name      74\n",
      "writer_name        74\n",
      "dtype: int64\n"
     ]
    }
   ],
   "source": [
    "#Melakukan drop terhadap kolom knownForTitles\n",
    "base_drop = base_df.drop(['knownForTitles'], axis=1)\n",
    "print(base_drop.info())\n",
    "\n",
    "#Melakukan perhitungan jumlah nilai NULL pada tiap kolom\n",
    "print(base_drop.isnull().sum())"
   ]
  },
  {
   "cell_type": "markdown",
   "metadata": {},
   "source": [
    "Masih Terdapat NULL pada olom genres, endyears, director_name dan write_name. Untuk tabel genres yang NULL akan diganti dengan 'Unknown'. "
   ]
  },
  {
   "cell_type": "code",
   "execution_count": 11,
   "metadata": {},
   "outputs": [
    {
     "name": "stdout",
     "output_type": "stream",
     "text": [
      "cast_name           0\n",
      "tconst              0\n",
      "titleType           0\n",
      "primaryTitle        0\n",
      "originalTitle       0\n",
      "isAdult             0\n",
      "startYear           0\n",
      "endYear           950\n",
      "runtimeMinutes      0\n",
      "genres              0\n",
      "averageRating       0\n",
      "numVotes            0\n",
      "director_name      74\n",
      "writer_name        74\n",
      "dtype: int64\n"
     ]
    }
   ],
   "source": [
    "#Mengganti nilai NULL pada kolom genres dengan 'Unknown'\n",
    "base_drop['genres'] = base_drop['genres'].fillna('Unknown')\n",
    "\n",
    "#Melakukan perhitungan jumlah nilai NULL pada tiap kolom\n",
    "print(base_drop.isnull().sum())"
   ]
  },
  {
   "cell_type": "markdown",
   "metadata": {},
   "source": [
    "Selanjutnya Mengganti nilai NULL pada kolom dorector_name dan writer_name dengan 'Unknown'. Karena value kolom genres terdapat multiple values seperti 1 judul film terdiri 3 genres seperti komedi, romance dan action, jadi kita akan bungkus menjadi list of list."
   ]
  },
  {
   "cell_type": "code",
   "execution_count": 12,
   "metadata": {},
   "outputs": [],
   "source": [
    "#Mengganti nilai NULL pada kolom dorector_name dan writer_name dengan 'Unknown'\n",
    "base_drop[['director_name','writer_name']] = base_drop[['director_name','writer_name']].fillna('unknown')\n",
    "\n",
    "#karena value kolom genres terdapat multiple values, jadi kita akan bungkus menjadi list of list\n",
    "base_drop['genres'] = base_drop['genres'].apply(lambda x: x.split(','))"
   ]
  },
  {
   "cell_type": "markdown",
   "metadata": {},
   "source": [
    "* **Reformat table base_df**\n",
    "\n",
    "Tahap Terakhir yaitu memformat tabel dengan membuang kolom yang tidak digunakan dan merename kolom agar lebih mudah penamaannya. Untuk kolom yang di drop yaitu 'tconst','isAdult','endYear','originalTitle'. Dan untuk kolom yang direname\n",
    ":\n",
    "* primaryTitle -> title\n",
    "* titleType -> type\n",
    "* startYear -> year\n",
    "* runtimeMinutes -> duration\n",
    "* averageRating -> rating\n",
    "* numVotes -> votes"
   ]
  },
  {
   "cell_type": "code",
   "execution_count": 13,
   "metadata": {},
   "outputs": [
    {
     "name": "stdout",
     "output_type": "stream",
     "text": [
      "                    title   type    year  duration  \\\n",
      "0         The Love Expert  movie  1920.0      60.0   \n",
      "1               Yes or No  movie  1920.0      72.0   \n",
      "2         Our Hospitality  movie  1923.0      65.0   \n",
      "3       The King of Kings  movie  1927.0     155.0   \n",
      "4  I Cover the Waterfront  movie  1933.0      80.0   \n",
      "\n",
      "                        genres  rating  votes           cast_name  \\\n",
      "0            [Comedy, Romance]     4.9    136  [Natalie Talmadge]   \n",
      "1                    [Unknown]     6.3      7  [Natalie Talmadge]   \n",
      "2  [Comedy, Romance, Thriller]     7.8   9621  [Natalie Talmadge]   \n",
      "3  [Biography, Drama, History]     7.3   1826     [Reeka Roberts]   \n",
      "4             [Drama, Romance]     6.3    455     [James Hackett]   \n",
      "\n",
      "                       director_name  \\\n",
      "0                   [David Kirkland]   \n",
      "1                [Roy William Neill]   \n",
      "2  [Buster Keaton, John G. Blystone]   \n",
      "3                 [Cecil B. DeMille]   \n",
      "4                      [James Cruze]   \n",
      "\n",
      "                                         writer_name  \n",
      "0                         [John Emerson, Anita Loos]  \n",
      "1   [Arthur F. Goodrich, Burns Mantle, Mary Murillo]  \n",
      "2  [Jean C. Havez, Clyde Bruckman, Joseph A. Mitc...  \n",
      "3                                [Jeanie Macpherson]  \n",
      "4               [Max Miller, Wells Root, Jack Jevne]  \n"
     ]
    }
   ],
   "source": [
    "#Drop kolom tconst, isAdult, endYear, originalTitle\n",
    "base_drop2 = base_drop.drop(['tconst','isAdult','endYear','originalTitle'], axis=1)\n",
    "\n",
    "base_drop2 = base_drop2[['primaryTitle','titleType','startYear','runtimeMinutes','genres','averageRating','numVotes','cast_name','director_name','writer_name']]\n",
    "\n",
    "'''Rename kolom :\n",
    "primaryTitle -> title\n",
    "titleType -> type\n",
    "startYear -> year\n",
    "runtimeMinutes -> duration\n",
    "averageRating -> rating\n",
    "numVotes -> votes'''\n",
    "base_drop2.columns = ['title','type','year','duration','genres','rating','votes','cast_name','director_name','writer_name']\n",
    "print(base_drop2.head())"
   ]
  },
  {
   "cell_type": "markdown",
   "metadata": {},
   "source": [
    "## C). Exploratory Data Analysis (EDA) IMDb Dataset"
   ]
  },
  {
   "cell_type": "code",
   "execution_count": 14,
   "metadata": {},
   "outputs": [],
   "source": [
    "#Memasukkan Library untuk visualisasi\n",
    "import matplotlib.pyplot as plt \n",
    "import seaborn as sns  "
   ]
  },
  {
   "cell_type": "markdown",
   "metadata": {},
   "source": [
    "### 1). Membuat Visualisasi Rating pada Movie\n",
    "\n",
    "Memvisualisasikan judul film berdasarkan rating diatas 7 sehingga kita dapat melihat daftar film yang terbaik berdasarka ratingnya. Untuk data yang ditampilkan yaitu film untuk tahun 2017 hingga 2020."
   ]
  },
  {
   "cell_type": "code",
   "execution_count": 15,
   "metadata": {},
   "outputs": [],
   "source": [
    "#Mengambil kolom untuk proses visualisasi\n",
    "eda_df = base_drop2[['title', 'type', 'genres', 'rating','votes']]"
   ]
  },
  {
   "cell_type": "code",
   "execution_count": 16,
   "metadata": {},
   "outputs": [],
   "source": [
    "#Memfilter value movie pada kolom type\n",
    "eda_df1 = eda_df.loc[(eda_df[\"type\"].isin(['movie']))]\n",
    "#Memfilter year untuk menampilkan data lebih dari tahun 2017 \n",
    "eda_df1 = eda_df1.loc[(base_drop2[\"year\"] >= 2017)]\n",
    "#Memfilter rating lebih dari 7\n",
    "eda_df1 = eda_df1.loc[(eda_df[\"rating\"] >= 7)]"
   ]
  },
  {
   "cell_type": "code",
   "execution_count": 17,
   "metadata": {},
   "outputs": [
    {
     "data": {
      "image/png": "[encoded data removed]",
      "text/plain": [
       "<Figure size 1512x720 with 1 Axes>"
      ]
     },
     "metadata": {
      "needs_background": "light"
     },
     "output_type": "display_data"
    }
   ],
   "source": [
    "plt.figure(figsize=(21,10))\n",
    "#Membuat plot \n",
    "bar = sns.barplot(eda_df1['title'], eda_df1['rating'])\n",
    "#kustomisasi Label\n",
    "plt.title(\"Movie dengan Rating diatas 7 (2017-2020)\")\n",
    "plt.ylabel(\"Rating\")\n",
    "plt.xlabel(\"Judul Film\")\n",
    "plt.xticks(rotation=80)\n",
    "for p in bar.patches:\n",
    "    bar.annotate(str(p.get_height()), (p.get_x(), p.get_height()))\n",
    "plt.show()"
   ]
  },
  {
   "cell_type": "markdown",
   "metadata": {},
   "source": [
    "### 2). Membuat Pie Chart Untuk PersentaseTipe Film pada Dataset\n",
    "\n",
    "Dengan Memvissualisasikan Jumlah Film Berdasarkan tipenya, kita dapat melihat dalam bentuk persentasenya. Mana tipe film yang paling bnyak, seperti judul dengan tipe movie terdapat berapa persen dari jumlah total data dan berapa persentae untuk tipe Tv Series, Tv Movie, Tv MiniSeries, Video, Short. Data yang akan diambil  untuk tahun 2017 hingga 2020"
   ]
  },
  {
   "cell_type": "code",
   "execution_count": 18,
   "metadata": {},
   "outputs": [
    {
     "data": {
      "image/png": "[encoded data removed]",
      "text/plain": [
       "<Figure size 720x504 with 1 Axes>"
      ]
     },
     "metadata": {},
     "output_type": "display_data"
    }
   ],
   "source": [
    "#Mengambil value 'movie', 'tvSeries', 'tvMovie', 'tvMiniSeries', 'video', 'short' pada kolom type untuk tahun 2017-2020\n",
    "eda_df2 = eda_df.loc[(base_drop2[\"year\"] >= 2017)]\n",
    "eda_df2 = eda_df2.loc[(eda_df2[\"type\"].isin(['movie', 'tvSeries', 'tvMovie', 'tvMiniSeries', 'video', 'short']))]\n",
    "#Membuat figur plot\n",
    "fig = plt.figure(figsize=(10,7))\n",
    "#Membuat sumbu plot\n",
    "ax = fig.add_axes([0,0,1,1])\n",
    "#Mengubah batas sumbu x atau y sehingga memiliki panjang yang sama\n",
    "ax.axis('equal')\n",
    "#Membuat Label pie chart\n",
    "labels = ['movie', 'tvSeries', 'tvMovie', 'tvMiniSeries', 'video', 'short']\n",
    "#Menghitung banyaknya unik dari kolom type dengan value_counts()\n",
    "rat = eda_df2.type.value_counts()\n",
    "#Membuat bentuk pie chart\n",
    "ax.pie(rat, labels = labels, autopct='%.0f%%')\n",
    "plt.show()"
   ]
  },
  {
   "cell_type": "markdown",
   "metadata": {},
   "source": [
    "### 3). Membuat Subplot Untuk Jumlah film berdasarkan tipenya untuk Masing - Masing Tahun 2017 - 2020\n",
    "\n",
    "Dengan subplot, kita dapat melihat jumlah data tipe film untuk masing masing tahunnya. Pertahunnya dapat terlihat banyaknya film berdarakan tipenya yang telah dibuat. Untuk data diambil masih sama yaitu untuk tahun 2017 hingga 2020"
   ]
  },
  {
   "cell_type": "code",
   "execution_count": 19,
   "metadata": {},
   "outputs": [
    {
     "data": {
      "image/png": "[encoded data removed]",
      "text/plain": [
       "<Figure size 1008x576 with 6 Axes>"
      ]
     },
     "metadata": {
      "needs_background": "light"
     },
     "output_type": "display_data"
    }
   ],
   "source": [
    "#Mengubah kolom year menjadi integer\n",
    "base_drop2[\"year\"] = base_drop2[\"year\"].astype('int64')\n",
    "#Mengambil data Berdarakan tahunnya\n",
    "df_2017 = base_drop2.loc[(base_drop2[\"year\"] == 2017)]\n",
    "df_2018 = base_drop2.loc[(base_drop2[\"year\"] == 2018)]\n",
    "df_2019 = base_drop2.loc[(base_drop2[\"year\"] == 2019)]\n",
    "df_2020 = base_drop2.loc[(base_drop2[\"year\"] == 2020)]\n",
    "#Membuat subplot\n",
    "fig, ax = plt.subplots(2, 3, figsize=(14, 8))\n",
    "#membuat plot dengan jumlah pengamatan di setiap bin kategorik variable dengan countplot()\n",
    "sns.countplot(data=df_2017, x='year', hue='type', ax=ax[0][0],\n",
    "              edgecolor=sns.color_palette(\"dark\", 3))\n",
    "sns.countplot(data=df_2018, x='year', hue='type', ax=ax[0][1],\n",
    "             edgecolor=sns.color_palette(\"dark\", 3))\n",
    "sns.countplot(data=df_2019, x='year', hue='type', ax=ax[0][2],\n",
    "             edgecolor=sns.color_palette(\"dark\", 3))\n",
    "sns.countplot(data=df_2020, x='year', hue='type', ax=ax[1][1],\n",
    "             edgecolor=sns.color_palette(\"dark\", 3))\n",
    "plt.tight_layout()\n",
    "plt.show()"
   ]
  },
  {
   "cell_type": "markdown",
   "metadata": {},
   "source": [
    "## C. Creating Content-based Recommender System"
   ]
  },
  {
   "cell_type": "markdown",
   "metadata": {},
   "source": [
    "**1). Klasifikasi Metadata**\n",
    "\n",
    "\n",
    "Tahapan awal yaitu menglasifikasi data/mengambil data sesuai kebutuhan. Disini kolom yang diklasifikasi yaitu title, cast_name, genres, director_name, dan writer_name."
   ]
  },
  {
   "cell_type": "code",
   "execution_count": 20,
   "metadata": {},
   "outputs": [
    {
     "name": "stdout",
     "output_type": "stream",
     "text": [
      "                    title           cast_name                       genres  \\\n",
      "0         The Love Expert  [Natalie Talmadge]            [Comedy, Romance]   \n",
      "1               Yes or No  [Natalie Talmadge]                    [Unknown]   \n",
      "2         Our Hospitality  [Natalie Talmadge]  [Comedy, Romance, Thriller]   \n",
      "3       The King of Kings     [Reeka Roberts]  [Biography, Drama, History]   \n",
      "4  I Cover the Waterfront     [James Hackett]             [Drama, Romance]   \n",
      "\n",
      "                       director_name  \\\n",
      "0                   [David Kirkland]   \n",
      "1                [Roy William Neill]   \n",
      "2  [Buster Keaton, John G. Blystone]   \n",
      "3                 [Cecil B. DeMille]   \n",
      "4                      [James Cruze]   \n",
      "\n",
      "                                         writer_name  \n",
      "0                         [John Emerson, Anita Loos]  \n",
      "1   [Arthur F. Goodrich, Burns Mantle, Mary Murillo]  \n",
      "2  [Jean C. Havez, Clyde Bruckman, Joseph A. Mitc...  \n",
      "3                                [Jeanie Macpherson]  \n",
      "4               [Max Miller, Wells Root, Jack Jevne]  \n"
     ]
    }
   ],
   "source": [
    "#Klasifikasi berdasar title, cast_name, genres, director_name, dan writer_name\n",
    "feature_df = base_drop2[['title','cast_name','genres','director_name','writer_name']]\n",
    "\n",
    "#Tampilkan 5 baris teratas\n",
    "print(feature_df.head())"
   ]
  },
  {
   "cell_type": "markdown",
   "metadata": {},
   "source": [
    "**2). Membuat Fungsi Untuk Strip Spaces dari Setiap Row dan Setiap Elemennya**\n",
    "\n",
    "Tahap ini menghapus jika ada spasi Disetiap elememn ataupun baris pada data. Hal ini guna mengurangi eror pada model yang dibuat."
   ]
  },
  {
   "cell_type": "code",
   "execution_count": 21,
   "metadata": {},
   "outputs": [
    {
     "name": "stderr",
     "output_type": "stream",
     "text": [
      "C:\\Users\\Microsoft\\anaconda3\\lib\\site-packages\\ipykernel_launcher.py:17: SettingWithCopyWarning: \n",
      "A value is trying to be set on a copy of a slice from a DataFrame.\n",
      "Try using .loc[row_indexer,col_indexer] = value instead\n",
      "\n",
      "See the caveats in the documentation: https://pandas.pydata.org/pandas-docs/stable/user_guide/indexing.html#returning-a-view-versus-a-copy\n"
     ]
    }
   ],
   "source": [
    "def sanitize(x):\n",
    "    try:\n",
    "        #kalau cell berisi list\n",
    "        if isinstance(x,list):\n",
    "            return [i.replace(' ','').lower() for i in x]\n",
    "        #kalau cell berisi string\n",
    "        else:\n",
    "            return [x.replace(' ','').lower()]\n",
    "    except:\n",
    "        print(x)\n",
    "        \n",
    "#Kolom : cast_name, genres, writer_name, director_name        \n",
    "feature_cols = ['cast_name','genres','writer_name','director_name']\n",
    "\n",
    "#Apply function sanitize \n",
    "for col in feature_cols:\n",
    "    feature_df[col] = feature_df[col].apply(sanitize)"
   ]
  },
  {
   "cell_type": "markdown",
   "metadata": {},
   "source": [
    "**3). Membuat Fungsi untuk Membuat Metadata Soup (menggabungkan semua feature menjadi 1 bagian kalimat) untuk setiap Judulnya**\n",
    "\n",
    "Jadi akan membuat metadata Soup dimana valuenya berasal dari value kolom cast_name, genres, director_name, writer_name yang akan dijadikan satu kalimat. Lalu soop tersebut akan dibuat menjadi satu kolom. "
   ]
  },
  {
   "cell_type": "code",
   "execution_count": 22,
   "metadata": {
    "scrolled": true
   },
   "outputs": [
    {
     "name": "stderr",
     "output_type": "stream",
     "text": [
      "C:\\Users\\Microsoft\\anaconda3\\lib\\site-packages\\ipykernel_launcher.py:6: SettingWithCopyWarning: \n",
      "A value is trying to be set on a copy of a slice from a DataFrame.\n",
      "Try using .loc[row_indexer,col_indexer] = value instead\n",
      "\n",
      "See the caveats in the documentation: https://pandas.pydata.org/pandas-docs/stable/user_guide/indexing.html#returning-a-view-versus-a-copy\n",
      "  \n"
     ]
    }
   ],
   "source": [
    "#kolom yang digunakan : cast_name, genres, director_name, writer_name\n",
    "def soup_feature(x):\n",
    "    return ' '.join(x['cast_name']) + ' ' + ' '.join(x['genres']) + ' ' + ' '.join(x['director_name']) + ' ' + ' '.join(x['writer_name'])\n",
    "\n",
    "#membuat soup menjadi 1 kolom \n",
    "feature_df['soup'] = feature_df.apply(soup_feature, axis=1)\n",
    "    "
   ]
  },
  {
   "cell_type": "markdown",
   "metadata": {},
   "source": [
    "**4). Menyiapkan CountVectorizer (stop_words = english) dan Fit Dengan Soup Yang Telah Buat di Atas**\n",
    "\n",
    "CountVectorizer Scikit-learn digunakan untuk mengonversi kumpulan dokumen teks menjadi vektor. Ini juga memungkinkan pra-pemrosesan data teks sebelum menghasilkan representasi vektor. Dengan menggunakan stop_words='english', kata-kata seperti “and”, “the”, “him”, yang dianggap tidak informatif dalam merepresentasikan konten teks, dan dapat dihapus agar tidak ditafsirkan sebagai parameter untuk prediksi."
   ]
  },
  {
   "cell_type": "code",
   "execution_count": 23,
   "metadata": {},
   "outputs": [
    {
     "name": "stdout",
     "output_type": "stream",
     "text": [
      "CountVectorizer(analyzer='word', binary=False, decode_error='strict',\n",
      "                dtype=<class 'numpy.int64'>, encoding='utf-8', input='content',\n",
      "                lowercase=True, max_df=1.0, max_features=None, min_df=1,\n",
      "                ngram_range=(1, 1), preprocessor=None, stop_words='english',\n",
      "                strip_accents=None, token_pattern='(?u)\\\\b\\\\w\\\\w+\\\\b',\n",
      "                tokenizer=None, vocabulary=None)\n",
      "(1060, 10026)\n"
     ]
    }
   ],
   "source": [
    "#import CountVectorizer \n",
    "from sklearn.feature_extraction.text import CountVectorizer\n",
    "\n",
    "#definisikan CountVectorizer dan mengubah soup tadi menjadi bentuk vector\n",
    "count = CountVectorizer(stop_words='english')\n",
    "count_matrix = count.fit_transform(feature_df['soup'])\n",
    "\n",
    "print(count)\n",
    "print(count_matrix.shape)"
   ]
  },
  {
   "cell_type": "markdown",
   "metadata": {},
   "source": [
    "**5). Membuat Model Similarity antara Count Matrix**\n",
    "\n",
    "Kami akan menggunakan Cosine Similarity untuk menghitung kuantitas numerik yang menunjukkan kesamaan antara dua film.Dengan menghitung Count Matrix akan langsung memberi kita Skor Kesamaan Cosine. Dengan menggunakan cosine_similarity akan jauh lebih cepat."
   ]
  },
  {
   "cell_type": "code",
   "execution_count": 24,
   "metadata": {},
   "outputs": [
    {
     "name": "stdout",
     "output_type": "stream",
     "text": [
      "[[1.         0.15430335 0.35355339 ... 0.         0.         0.13608276]\n",
      " [0.15430335 1.         0.10910895 ... 0.         0.         0.        ]\n",
      " [0.35355339 0.10910895 1.         ... 0.         0.08703883 0.09622504]\n",
      " ...\n",
      " [0.         0.         0.         ... 1.         0.         0.        ]\n",
      " [0.         0.         0.08703883 ... 0.         1.         0.10050378]\n",
      " [0.13608276 0.         0.09622504 ... 0.         0.10050378 1.        ]]\n"
     ]
    }
   ],
   "source": [
    "#Import cosine_similarity\n",
    "from sklearn.metrics.pairwise import cosine_similarity\n",
    "\n",
    "#Gunakan cosine_similarity antara count_matrix \n",
    "cosine_sim = cosine_similarity(count_matrix, count_matrix)\n",
    "\n",
    "#print hasilnya\n",
    "print(cosine_sim)"
   ]
  },
  {
   "cell_type": "markdown",
   "metadata": {},
   "source": [
    "**6) Membuat Content Based Recommender System**\n",
    "\n",
    "Tahap Terakhit yaitu Pembuatan Content Based Recommender System. Dengan menghitung kesamaan antara film berdasarkan metrik tertentu dan menyarankan film yang paling mirip dengan film yang ditentukan. Untuk Parameter input dsni menggunakan title, dari judul nantinya akan di rekomendasikan judul film yang mirip berdasarkan cast_name, genres, director_name, writer_name dengan menghitung score dari model yang telah dibuat."
   ]
  },
  {
   "cell_type": "code",
   "execution_count": 25,
   "metadata": {},
   "outputs": [],
   "source": [
    "indices = pd.Series(feature_df.index, index=feature_df['title']).drop_duplicates()\n",
    "\n",
    "def content_recommender(title):\n",
    "    #mendapatkan index dari judul film (title) yang disebutkan\n",
    "    idx = indices[title]\n",
    "\n",
    "    #menjadikan list dari array similarity cosine sim \n",
    "    sim_scores = list(enumerate(cosine_sim[idx]))\n",
    "\n",
    "    #mengurutkan film dari similarity tertinggi ke terendah\n",
    "    sim_scores = sorted(sim_scores,key=lambda x:x[1],reverse=True)\n",
    "\n",
    "    #untuk mendapatkan list judul dari item kedua sampe ke 11\n",
    "    sim_scores = sim_scores[1:11]\n",
    "\n",
    "    #mendapatkan index dari judul-judul yang muncul di sim_scores\n",
    "    movie_indices = [i[0] for i in sim_scores]\n",
    "\n",
    "    #dengan menggunakan iloc, kita bisa panggil balik berdasarkan index dari movie_indices\n",
    "    return base_df.iloc[movie_indices]"
   ]
  },
  {
   "cell_type": "markdown",
   "metadata": {},
   "source": [
    "**7) Pengaplikasian Content Based Recommender System**\n",
    "\n",
    "Sebagai Contoh Pengaplikasian, kami memasukkan judul 'Logan' 'Alita: Battle Angel' dan 'Iron Man'. Akan keluar hasil rekomendasi judul film yang mirip dengan judul film yang di input."
   ]
  },
  {
   "cell_type": "code",
   "execution_count": 26,
   "metadata": {},
   "outputs": [
    {
     "name": "stdout",
     "output_type": "stream",
     "text": [
      "    knownForTitles               cast_name     tconst titleType  \\\n",
      "751      tt1950186          [Chris Markle]  tt1950186     movie   \n",
      "83       tt0079550  [Hallie Smith-Simmons]  tt0079550     movie   \n",
      "189      tt0107597         [Dawn Mazzella]  tt0107597     movie   \n",
      "454      tt0417552   [Tatyana Kuzmichyova]  tt0417552     movie   \n",
      "934      tt5029630      [Leticia Armajach]  tt5029630     short   \n",
      "110      tt0087303         [Joaquín Parra]  tt0087303     movie   \n",
      "136      tt0093405    [William Holden Jr.]  tt0093405     movie   \n",
      "335      tt0217869            [Sam Mercer]  tt0217869     movie   \n",
      "382      tt0286106            [Sam Mercer]  tt0286106     movie   \n",
      "466      tt0437086          [Jeff Bottoms]  tt0437086     movie   \n",
      "\n",
      "            primaryTitle            originalTitle  isAdult  startYear  \\\n",
      "751       Ford v Ferrari           Ford v Ferrari        0     2019.0   \n",
      "83                Meteor                   Meteor        0     1979.0   \n",
      "189             Monolith                 Monolith        0     1993.0   \n",
      "454              Contact                  Kontakt        0     2005.0   \n",
      "934         Alien Inside             Alien Inside        0     2015.0   \n",
      "110    A Man Called Rage  Rage - Fuoco incrociato        0     1984.0   \n",
      "136       Leonard Part 6           Leonard Part 6        0     1987.0   \n",
      "335          Unbreakable              Unbreakable        0     2000.0   \n",
      "382                Signs                    Signs        0     2002.0   \n",
      "466  Alita: Battle Angel      Alita: Battle Angel        0     2019.0   \n",
      "\n",
      "     endYear  runtimeMinutes                   genres  averageRating  \\\n",
      "751      NaN           152.0   Action,Biography,Drama            8.1   \n",
      "83       NaN           108.0      Action,Drama,Sci-Fi            5.0   \n",
      "189      NaN            91.0            Action,Sci-Fi            4.6   \n",
      "454      NaN            67.0     Drama,Romance,Sci-Fi            5.8   \n",
      "934      NaN             6.0       Drama,Sci-Fi,Short            4.3   \n",
      "110      NaN            91.0   Action,Sci-Fi,Thriller            4.7   \n",
      "136      NaN            85.0     Action,Comedy,Sci-Fi            2.2   \n",
      "335      NaN           106.0     Drama,Mystery,Sci-Fi            7.3   \n",
      "382      NaN           106.0     Drama,Mystery,Sci-Fi            6.7   \n",
      "466      NaN           122.0  Action,Adventure,Sci-Fi            7.3   \n",
      "\n",
      "     numVotes         director_name  \\\n",
      "751    201000       [James Mangold]   \n",
      "83       6351        [Ronald Neame]   \n",
      "189       797          [John Eyres]   \n",
      "454        16    [Andrey Novoselov]   \n",
      "934        15      [Alfonso García]   \n",
      "110       124        [Tonino Ricci]   \n",
      "136      7789        [Paul Weiland]   \n",
      "335    374057  [M. Night Shyamalan]   \n",
      "382    327629  [M. Night Shyamalan]   \n",
      "466    202735    [Robert Rodriguez]   \n",
      "\n",
      "                                           writer_name  \n",
      "751  [Jez Butterworth, John-Henry Butterworth, Jaso...  \n",
      "83                     [Stanley Mann, Edmund H. North]  \n",
      "189                      [Stephen Lister, Eric Poppen]  \n",
      "454                                 [Irina Borodulina]  \n",
      "934                                    [Vicente Rubio]  \n",
      "110                  [Jaime Comas Gil, Eugenio Benito]  \n",
      "136                    [Jonathan Reynolds, Bill Cosby]  \n",
      "335                               [M. Night Shyamalan]  \n",
      "382                               [M. Night Shyamalan]  \n",
      "466  [James Cameron, Laeta Kalogridis, Yukito Kishiro]  \n"
     ]
    }
   ],
   "source": [
    "#Pengaplikasian function di atas dengan film yang sejenis Logan\n",
    "print(content_recommender('Logan'))"
   ]
  },
  {
   "cell_type": "code",
   "execution_count": 27,
   "metadata": {},
   "outputs": [
    {
     "name": "stdout",
     "output_type": "stream",
     "text": [
      "    knownForTitles                     cast_name     tconst titleType  \\\n",
      "637      tt1375666               [Dan Churchill]  tt1375666     movie   \n",
      "649      tt1440129             [Robert E. Evans]  tt1440129     movie   \n",
      "987      tt6450804       [Gustavo García Sierra]  tt6450804     movie   \n",
      "233      tt0119116                [Mel Churcher]  tt0119116     movie   \n",
      "511      tt0796366  [Matthew Fuchs, Aida Caefer]  tt0796366     movie   \n",
      "753      tt1951265             [Robert E. Evans]  tt1951265     movie   \n",
      "189      tt0107597               [Dawn Mazzella]  tt0107597     movie   \n",
      "629      tt1337566                 [Kirk Larsen]  tt1337566     movie   \n",
      "726      tt1825683             [Robert E. Evans]  tt1825683     movie   \n",
      "424      tt0371746               [Matthew Fuchs]  tt0371746     movie   \n",
      "\n",
      "                              primaryTitle  \\\n",
      "637                              Inception   \n",
      "649                             Battleship   \n",
      "987                  Terminator: Dark Fate   \n",
      "233                      The Fifth Element   \n",
      "511                              Star Trek   \n",
      "753  The Hunger Games: Mockingjay - Part 1   \n",
      "189                               Monolith   \n",
      "629                          Wake-Up Callz   \n",
      "726                          Black Panther   \n",
      "424                               Iron Man   \n",
      "\n",
      "                             originalTitle  isAdult  startYear  endYear  \\\n",
      "637                              Inception        0     2010.0      NaN   \n",
      "649                             Battleship        0     2012.0      NaN   \n",
      "987                  Terminator: Dark Fate        0     2019.0      NaN   \n",
      "233                      The Fifth Element        0     1997.0      NaN   \n",
      "511                              Star Trek        0     2009.0      NaN   \n",
      "753  The Hunger Games: Mockingjay - Part 1        0     2014.0      NaN   \n",
      "189                               Monolith        0     1993.0      NaN   \n",
      "629                          Wake-Up Callz        0     2008.0      NaN   \n",
      "726                          Black Panther        0     2018.0      NaN   \n",
      "424                               Iron Man        0     2008.0      NaN   \n",
      "\n",
      "     runtimeMinutes                    genres  averageRating  numVotes  \\\n",
      "637           148.0   Action,Adventure,Sci-Fi            8.8   1950039   \n",
      "649           131.0   Action,Adventure,Sci-Fi            5.8    230468   \n",
      "987           128.0   Action,Adventure,Sci-Fi            6.3    115689   \n",
      "233           126.0   Action,Adventure,Sci-Fi            7.7    418790   \n",
      "511           127.0   Action,Adventure,Sci-Fi            7.9    567224   \n",
      "753           123.0   Action,Adventure,Sci-Fi            6.6    396772   \n",
      "189            91.0             Action,Sci-Fi            4.6       797   \n",
      "629            93.0  Adventure,Fantasy,Sci-Fi            5.5        12   \n",
      "726           134.0   Action,Adventure,Sci-Fi            7.3    575851   \n",
      "424           126.0   Action,Adventure,Sci-Fi            7.9    906367   \n",
      "\n",
      "           director_name                                        writer_name  \n",
      "637  [Christopher Nolan]                                [Christopher Nolan]  \n",
      "649         [Peter Berg]                         [Jon Hoeber, Erich Hoeber]  \n",
      "987         [Tim Miller]  [Charles H. Eglee, James Cameron, Josh Friedma...  \n",
      "233         [Luc Besson]                    [Luc Besson, Robert Mark Kamen]  \n",
      "511        [J.J. Abrams]    [Gene Roddenberry, Roberto Orci, Alex Kurtzman]  \n",
      "753   [Francis Lawrence]       [Peter Craig, Danny Strong, Suzanne Collins]  \n",
      "189         [John Eyres]                      [Stephen Lister, Eric Poppen]  \n",
      "629       [Scott Kunkle]                                 [Adrian Horodecky]  \n",
      "726       [Ryan Coogler]  [Stan Lee, Jack Kirby, Ryan Coogler, Joe Rober...  \n",
      "424        [Jon Favreau]  [Mark Fergus, Hawk Ostby, Art Marcum, Matt Hol...  \n"
     ]
    }
   ],
   "source": [
    "print(content_recommender('Alita: Battle Angel'))"
   ]
  },
  {
   "cell_type": "code",
   "execution_count": 28,
   "metadata": {},
   "outputs": [
    {
     "name": "stdout",
     "output_type": "stream",
     "text": [
      "    knownForTitles                     cast_name     tconst titleType  \\\n",
      "726      tt1825683             [Robert E. Evans]  tt1825683     movie   \n",
      "873      tt3385516              [Frank Maudsley]  tt3385516     movie   \n",
      "511      tt0796366  [Matthew Fuchs, Aida Caefer]  tt0796366     movie   \n",
      "611      tt1270798                 [Aida Caefer]  tt1270798     movie   \n",
      "494      tt0478970            [Francesco Cadoni]  tt0478970     movie   \n",
      "791      tt2250912              [Frank Maudsley]  tt2250912     movie   \n",
      "466      tt0437086                [Jeff Bottoms]  tt0437086     movie   \n",
      "637      tt1375666               [Dan Churchill]  tt1375666     movie   \n",
      "649      tt1440129             [Robert E. Evans]  tt1440129     movie   \n",
      "877      tt3501632            [Francesco Cadoni]  tt3501632     movie   \n",
      "\n",
      "               primaryTitle           originalTitle  isAdult  startYear  \\\n",
      "726           Black Panther           Black Panther        0     2018.0   \n",
      "873       X-Men: Apocalypse       X-Men: Apocalypse        0     2016.0   \n",
      "511               Star Trek               Star Trek        0     2009.0   \n",
      "611      X-Men: First Class          X: First Class        0     2011.0   \n",
      "494                 Ant-Man                 Ant-Man        0     2015.0   \n",
      "791  Spider-Man: Homecoming  Spider-Man: Homecoming        0     2017.0   \n",
      "466     Alita: Battle Angel     Alita: Battle Angel        0     2019.0   \n",
      "637               Inception               Inception        0     2010.0   \n",
      "649              Battleship              Battleship        0     2012.0   \n",
      "877          Thor: Ragnarok          Thor: Ragnarok        0     2017.0   \n",
      "\n",
      "     endYear  runtimeMinutes                   genres  averageRating  \\\n",
      "726      NaN           134.0  Action,Adventure,Sci-Fi            7.3   \n",
      "873      NaN           144.0  Action,Adventure,Sci-Fi            6.9   \n",
      "511      NaN           127.0  Action,Adventure,Sci-Fi            7.9   \n",
      "611      NaN           131.0  Action,Adventure,Sci-Fi            7.7   \n",
      "494      NaN           117.0  Action,Adventure,Comedy            7.3   \n",
      "791      NaN           133.0  Action,Adventure,Sci-Fi            7.4   \n",
      "466      NaN           122.0  Action,Adventure,Sci-Fi            7.3   \n",
      "637      NaN           148.0  Action,Adventure,Sci-Fi            8.8   \n",
      "649      NaN           131.0  Action,Adventure,Sci-Fi            5.8   \n",
      "877      NaN           130.0  Action,Adventure,Comedy            7.9   \n",
      "\n",
      "     numVotes        director_name  \\\n",
      "726    575851       [Ryan Coogler]   \n",
      "873    377709       [Bryan Singer]   \n",
      "511    567224        [J.J. Abrams]   \n",
      "611    629609     [Matthew Vaughn]   \n",
      "494    540644        [Peyton Reed]   \n",
      "791    479292          [Jon Watts]   \n",
      "466    202735   [Robert Rodriguez]   \n",
      "637   1950039  [Christopher Nolan]   \n",
      "649    230468         [Peter Berg]   \n",
      "877    544539      [Taika Waititi]   \n",
      "\n",
      "                                           writer_name  \n",
      "726  [Stan Lee, Jack Kirby, Ryan Coogler, Joe Rober...  \n",
      "873  [Stan Lee, Jack Kirby, Simon Kinberg, Bryan Si...  \n",
      "511    [Gene Roddenberry, Roberto Orci, Alex Kurtzman]  \n",
      "611  [Stan Lee, Jack Kirby, Ashley Miller, Zack Ste...  \n",
      "494  [Stan Lee, Larry Lieber, Jack Kirby, Edgar Wri...  \n",
      "791  [Stan Lee, Jack Kirby, Joe Simon, Jonathan Gol...  \n",
      "466  [James Cameron, Laeta Kalogridis, Yukito Kishiro]  \n",
      "637                                [Christopher Nolan]  \n",
      "649                         [Jon Hoeber, Erich Hoeber]  \n",
      "877  [Stan Lee, Larry Lieber, Jack Kirby, Craig Kyl...  \n"
     ]
    }
   ],
   "source": [
    "print(content_recommender('Iron Man'))"
   ]
  }
 ],
 "metadata": {
  "kernelspec": {
   "display_name": "Python 3",
   "language": "python",
   "name": "python3"
  },
  "language_info": {
   "codemirror_mode": {
    "name": "ipython",
    "version": 3
   },
   "file_extension": ".py",
   "mimetype": "text/x-python",
   "name": "python",
   "nbconvert_exporter": "python",
   "pygments_lexer": "ipython3",
   "version": "3.7.6"
  }
 },
 "nbformat": 4,
 "nbformat_minor": 4
}
